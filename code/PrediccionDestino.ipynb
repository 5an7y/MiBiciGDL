{
 "cells": [
  {
   "attachments": {},
   "cell_type": "markdown",
   "metadata": {},
   "source": [
    "¿Es posible realizar predicciones sobre el destino de un cliente utilizando variables predictoras como el tiempo, el lugar de partida, la edad y el identificador del cliente?\n",
    "\n",
    "En esta notebook exploramos distintos clasificadores asi como variaciones de los mismos para ver el proder predictivo que se tiene para identificar donde un usuario terminara basado en la informacion que tenemos al inicio de su viaje."
   ]
  },
  {
   "attachments": {},
   "cell_type": "markdown",
   "metadata": {},
   "source": [
    "# Librerias"
   ]
  },
  {
   "cell_type": "code",
   "execution_count": 1,
   "metadata": {},
   "outputs": [
    {
     "name": "stderr",
     "output_type": "stream",
     "text": [
      "c:\\Users\\joses\\AppData\\Local\\Programs\\Python\\Python39\\lib\\site-packages\\scipy\\__init__.py:146: UserWarning: A NumPy version >=1.16.5 and <1.23.0 is required for this version of SciPy (detected version 1.24.2\n",
      "  warnings.warn(f\"A NumPy version >={np_minversion} and <{np_maxversion}\"\n"
     ]
    }
   ],
   "source": [
    "import pandas as pd\n",
    "import datetime\n",
    "from sklearn.model_selection import train_test_split\n",
    "from sklearn.neural_network import MLPClassifier"
   ]
  },
  {
   "attachments": {},
   "cell_type": "markdown",
   "metadata": {},
   "source": [
    "# Dataset\n",
    "\n",
    "Vamos a preparar nuestros datos para poder ser usados por los distintos clasificadores que nos proporciona Sklearn."
   ]
  },
  {
   "cell_type": "code",
   "execution_count": 2,
   "metadata": {},
   "outputs": [
    {
     "data": {
      "text/html": [
       "<div>\n",
       "<style scoped>\n",
       "    .dataframe tbody tr th:only-of-type {\n",
       "        vertical-align: middle;\n",
       "    }\n",
       "\n",
       "    .dataframe tbody tr th {\n",
       "        vertical-align: top;\n",
       "    }\n",
       "\n",
       "    .dataframe thead th {\n",
       "        text-align: right;\n",
       "    }\n",
       "</style>\n",
       "<table border=\"1\" class=\"dataframe\">\n",
       "  <thead>\n",
       "    <tr style=\"text-align: right;\">\n",
       "      <th></th>\n",
       "      <th>Viaje_Id</th>\n",
       "      <th>Usuario_Id</th>\n",
       "      <th>Genero</th>\n",
       "      <th>Anio_de_nacimiento</th>\n",
       "      <th>Inicio_del_viaje</th>\n",
       "      <th>Fin_del_viaje</th>\n",
       "      <th>Origen_Id</th>\n",
       "      <th>Destino_Id</th>\n",
       "    </tr>\n",
       "  </thead>\n",
       "  <tbody>\n",
       "    <tr>\n",
       "      <th>0</th>\n",
       "      <td>27598660</td>\n",
       "      <td>12551</td>\n",
       "      <td>M</td>\n",
       "      <td>1987</td>\n",
       "      <td>2023-03-01 00:00:32</td>\n",
       "      <td>2023-03-01 00:11:09</td>\n",
       "      <td>80</td>\n",
       "      <td>39</td>\n",
       "    </tr>\n",
       "    <tr>\n",
       "      <th>1</th>\n",
       "      <td>27598661</td>\n",
       "      <td>1153034</td>\n",
       "      <td>F</td>\n",
       "      <td>1994</td>\n",
       "      <td>2023-03-01 00:00:38</td>\n",
       "      <td>2023-03-01 00:09:47</td>\n",
       "      <td>188</td>\n",
       "      <td>17</td>\n",
       "    </tr>\n",
       "    <tr>\n",
       "      <th>2</th>\n",
       "      <td>27598668</td>\n",
       "      <td>1566425</td>\n",
       "      <td>M</td>\n",
       "      <td>1973</td>\n",
       "      <td>2023-03-01 00:04:52</td>\n",
       "      <td>2023-03-01 00:20:43</td>\n",
       "      <td>86</td>\n",
       "      <td>4</td>\n",
       "    </tr>\n",
       "    <tr>\n",
       "      <th>3</th>\n",
       "      <td>27598678</td>\n",
       "      <td>556440</td>\n",
       "      <td>M</td>\n",
       "      <td>2000</td>\n",
       "      <td>2023-03-01 00:05:55</td>\n",
       "      <td>2023-03-01 00:18:36</td>\n",
       "      <td>85</td>\n",
       "      <td>85</td>\n",
       "    </tr>\n",
       "    <tr>\n",
       "      <th>4</th>\n",
       "      <td>27598686</td>\n",
       "      <td>344644</td>\n",
       "      <td>M</td>\n",
       "      <td>2000</td>\n",
       "      <td>2023-03-01 00:07:33</td>\n",
       "      <td>2023-03-01 00:18:54</td>\n",
       "      <td>241</td>\n",
       "      <td>198</td>\n",
       "    </tr>\n",
       "  </tbody>\n",
       "</table>\n",
       "</div>"
      ],
      "text/plain": [
       "   Viaje_Id  Usuario_Id Genero  Anio_de_nacimiento    Inicio_del_viaje  \\\n",
       "0  27598660       12551      M                1987 2023-03-01 00:00:32   \n",
       "1  27598661     1153034      F                1994 2023-03-01 00:00:38   \n",
       "2  27598668     1566425      M                1973 2023-03-01 00:04:52   \n",
       "3  27598678      556440      M                2000 2023-03-01 00:05:55   \n",
       "4  27598686      344644      M                2000 2023-03-01 00:07:33   \n",
       "\n",
       "        Fin_del_viaje  Origen_Id  Destino_Id  \n",
       "0 2023-03-01 00:11:09         80          39  \n",
       "1 2023-03-01 00:09:47        188          17  \n",
       "2 2023-03-01 00:20:43         86           4  \n",
       "3 2023-03-01 00:18:36         85          85  \n",
       "4 2023-03-01 00:18:54        241         198  "
      ]
     },
     "execution_count": 2,
     "metadata": {},
     "output_type": "execute_result"
    }
   ],
   "source": [
    "BiciDF = pd.read_csv(\"../data/datos_abiertos_2023_03.csv\", encoding = 'latin-1')\n",
    "\n",
    "# Parse String to Datatime\n",
    "BiciDF[\"Inicio_del_viaje\"] = pd.to_datetime(BiciDF[\"Inicio_del_viaje\"],\n",
    "               format='%Y-%m-%d %H:%M:%S')\n",
    "BiciDF[\"Fin_del_viaje\"] = pd.to_datetime(BiciDF[\"Fin_del_viaje\"],\n",
    "               format='%Y-%m-%d %H:%M:%S')\n",
    "\n",
    "# Make the year a int instead of float\n",
    "BiciDF = BiciDF.dropna()\n",
    "BiciDF[\"Anio_de_nacimiento\"] = BiciDF[\"Anio_de_nacimiento\"].astype(int)\n",
    "\n",
    "BiciDF.head()"
   ]
  },
  {
   "attachments": {},
   "cell_type": "markdown",
   "metadata": {},
   "source": [
    "Tenemos que hacer un parsing de los datos que no son enteros en este caso las caracteristicas que vamos a manejar que no son enteros son el Genero y el inicio del viaje. El genero es sencillo como designa un genero como 1 y al otros con el 0. Por otro lado, para el inicio de viaje una opcion seria pasar todo a UNIX time; sin embargo, esto no da mucha informacion a un clasificador y es una codificacion bastante burda.\n",
    "\n",
    "Por la naturaleza de los datos uno puede intuir que se tienen ciertos patrones semanales e interesa mas analizar estos patrones para el clasificador que solo el UNIX time. Es decir, es posible que los tiempos de los lunes se parezcan mas que a los de otro lunes que a los del miercoles de la misma semana. Entonces, vamos tomar el *tiempos que ha pasado desde el inicio de semana*. Ademas de eso para tener una mejor agrupacion tomaremos intervalos de 15 minutos. Es decir, todos los Lunes de $0:00$ a $0:15$ seran identificados con la etiqueta $0$, los del $0:15$ asl $0:30$ con la etiqueta $1$ y asi sucesivamente. La funcion mostrada a continuacion hace justamente ese mapping de los tiempos."
   ]
  },
  {
   "cell_type": "code",
   "execution_count": 3,
   "metadata": {},
   "outputs": [
    {
     "data": {
      "text/plain": [
       "533"
      ]
     },
     "execution_count": 3,
     "metadata": {},
     "output_type": "execute_result"
    }
   ],
   "source": [
    "def parse_datetime(dt):\n",
    "    start_of_week = dt - datetime.timedelta(days=dt.weekday())\n",
    "    start_of_week = start_of_week.replace(hour=0, minute=0, second=0)\n",
    "    elapsed_time = dt - start_of_week\n",
    "    minutes = elapsed_time.total_seconds()/60\n",
    "    return int(minutes) // 15\n",
    "\n",
    "parse_datetime(datetime.datetime.now())"
   ]
  },
  {
   "attachments": {},
   "cell_type": "markdown",
   "metadata": {},
   "source": [
    "En la siguiente celda dividimos nuestros datos en un conjunto de entrenamiento y uno de prueba para medir el rendimiento de los clasificadores. De igual forma hacemos los castings pertinentes y trabajamos con numpy arrays para mantener uniformidad en como trabajamos con las entradas y salidas de nuestros clasificadores."
   ]
  },
  {
   "cell_type": "code",
   "execution_count": 6,
   "metadata": {},
   "outputs": [
    {
     "name": "stderr",
     "output_type": "stream",
     "text": [
      "C:\\Users\\joses\\AppData\\Local\\Temp/ipykernel_16788/3558726538.py:3: SettingWithCopyWarning: \n",
      "A value is trying to be set on a copy of a slice from a DataFrame.\n",
      "Try using .loc[row_indexer,col_indexer] = value instead\n",
      "\n",
      "See the caveats in the documentation: https://pandas.pydata.org/pandas-docs/stable/user_guide/indexing.html#returning-a-view-versus-a-copy\n",
      "  df[\"Genero\"] = df[\"Genero\"].map(lambda x: x=='M')\n",
      "C:\\Users\\joses\\AppData\\Local\\Temp/ipykernel_16788/3558726538.py:5: SettingWithCopyWarning: \n",
      "A value is trying to be set on a copy of a slice from a DataFrame.\n",
      "Try using .loc[row_indexer,col_indexer] = value instead\n",
      "\n",
      "See the caveats in the documentation: https://pandas.pydata.org/pandas-docs/stable/user_guide/indexing.html#returning-a-view-versus-a-copy\n",
      "  df[\"Inicio_del_viaje\"] = df[\"Inicio_del_viaje\"].map(parse_datetime)\n"
     ]
    }
   ],
   "source": [
    "def parseDF(df):\n",
    "    # Make Gender a number\n",
    "    df[\"Genero\"] = df[\"Genero\"].map(lambda x: x=='M')\n",
    "    # Datetime to int\n",
    "    df[\"Inicio_del_viaje\"] = df[\"Inicio_del_viaje\"].map(parse_datetime)\n",
    "    return df\n",
    "\n",
    "trainDF, testDF = train_test_split(BiciDF, test_size=0.2)\n",
    "# Prepare train data\n",
    "trainDF_features = trainDF[[\"Genero\", \"Anio_de_nacimiento\", \"Inicio_del_viaje\", \"Origen_Id\"]]\n",
    "train_features = parseDF(trainDF_features).to_numpy()\n",
    "train_labels   = trainDF[[\"Destino_Id\"]].to_numpy().flatten()\n",
    "\n",
    "# Prepare test data\n",
    "testDF_features = testDF[[\"Genero\", \"Anio_de_nacimiento\", \"Inicio_del_viaje\", \"Origen_Id\"]]\n",
    "test_features = parseDF(testDF_features).to_numpy()\n",
    "test_labels   = trainDF[[\"Destino_Id\"]].to_numpy().flatten()"
   ]
  },
  {
   "attachments": {},
   "cell_type": "markdown",
   "metadata": {},
   "source": [
    "# Red Neuronal"
   ]
  },
  {
   "cell_type": "code",
   "execution_count": 7,
   "metadata": {},
   "outputs": [
    {
     "name": "stdout",
     "output_type": "stream",
     "text": [
      "Iteration 1, loss = 6.76269608\n",
      "Iteration 2, loss = 5.36395059\n",
      "Iteration 3, loss = 5.28367663\n",
      "Iteration 4, loss = 5.26012639\n",
      "Iteration 5, loss = 5.24926198\n",
      "Iteration 6, loss = 5.23652005\n",
      "Iteration 7, loss = 5.21774525\n",
      "Iteration 8, loss = 5.20762897\n",
      "Iteration 9, loss = 5.19490405\n",
      "Iteration 10, loss = 5.17934703\n"
     ]
    },
    {
     "name": "stderr",
     "output_type": "stream",
     "text": [
      "c:\\Users\\joses\\AppData\\Local\\Programs\\Python\\Python39\\lib\\site-packages\\sklearn\\neural_network\\_multilayer_perceptron.py:692: ConvergenceWarning: Stochastic Optimizer: Maximum iterations (10) reached and the optimization hasn't converged yet.\n",
      "  warnings.warn(\n"
     ]
    },
    {
     "name": "stdout",
     "output_type": "stream",
     "text": [
      "Training score: 0.033304324960556964\n",
      "Test score: 0.033304324960556964\n"
     ]
    }
   ],
   "source": [
    "NN = MLPClassifier(\n",
    "    hidden_layer_sizes=(16, 32, 64), \n",
    "    random_state=1234, \n",
    "    verbose=True, # Print classifier progress\n",
    "    max_iter=10 # Set max iteration to get results sooner\n",
    ").fit(train_features, train_labels)\n",
    "\n",
    "print(f\"Training score: {NN.score(train_features, train_labels)}\")\n",
    "print(f\"Test score: {NN.score(train_features, train_labels)}\")"
   ]
  }
 ],
 "metadata": {
  "kernelspec": {
   "display_name": "Python 3",
   "language": "python",
   "name": "python3"
  },
  "language_info": {
   "codemirror_mode": {
    "name": "ipython",
    "version": 3
   },
   "file_extension": ".py",
   "mimetype": "text/x-python",
   "name": "python",
   "nbconvert_exporter": "python",
   "pygments_lexer": "ipython3",
   "version": "3.9.7"
  },
  "orig_nbformat": 4
 },
 "nbformat": 4,
 "nbformat_minor": 2
}
